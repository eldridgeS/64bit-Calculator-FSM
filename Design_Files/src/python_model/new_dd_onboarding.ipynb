{
 "cells": [
  {
   "cell_type": "markdown",
   "id": "ff5a4c84",
   "metadata": {},
   "source": [
    "# New Digital Design Onboarding Assignment \n",
    "\n",
    "The first cell generates two numbers and computes the result. \n",
    "\n",
    "The second cell repeats the first cell 128 times and writes the answers to a text file. \n",
    "\n"
   ]
  },
  {
   "cell_type": "code",
   "execution_count": 5,
   "id": "fa63148b",
   "metadata": {},
   "outputs": [
    {
     "name": "stdout",
     "output_type": "stream",
     "text": [
      "64-bit binary number: 1000110001110010000011111100100000101001001110011100110001110100\n",
      "First 32-bit number: 0b101001001110011100110001110100\n",
      "First 32-bit number: 0b10001100011100100000111111001000\n",
      "64-bit binary number: 0000000100011110001111111011001101110101110011000100111001001100\n",
      "Result of addition in binary: 0111011011101010100011011111111110110101101010111101110000111100\n"
     ]
    }
   ],
   "source": [
    "\n",
    "import numpy as np \n",
    "\n",
    "'''\n",
    "Assumptions: \n",
    "1. The code generates two 64-bit unsigned integers.\n",
    "2. Each 64-bit integer is formed by combining strictly two 32-bit integers.\n",
    "3. Overflow is not handled\n",
    "'''\n",
    "\n",
    "mem_value1 = np.random.randint(0, 2**64, size=1, dtype=np.uint64) \n",
    "print(\"64-bit binary number: \" + format(mem_value1.item(), '064b'))\n",
    "\n",
    "# Extract lower 32 bits\n",
    "lower = mem_value1.item() & 0xFFFFFFFF\n",
    "print(\"First 32-bit number: \" + bin(lower))\n",
    "\n",
    "# Extract upper 32 bits\n",
    "upper = (mem_value1.item() >> 32) & 0xFFFFFFFF\n",
    "print(\"First 32-bit number: \" + bin(upper))\n",
    "\n",
    "result1 = lower + upper\n",
    "\n",
    "mem_value2 = np.random.randint(0, 2**64, size=1, dtype=np.uint64) \n",
    "print(\"64-bit binary number: \" + format(mem_value2.item(), '064b'))\n",
    "\n",
    "# Extract lower 32 bits\n",
    "lower = mem_value2.item() & 0xFFFFFFFF\n",
    "\n",
    "# Extract upper 32 bits\n",
    "upper = (mem_value2.item() >> 32) & 0xFFFFFFFF\n",
    "\n",
    "result2 = lower + upper\n",
    "\n",
    "result = result1 + (result2 << 32)\n",
    "\n",
    "result_binary = format(result, '064b')\n",
    "print(\"Result of addition in binary: \" + result_binary)"
   ]
  },
  {
   "cell_type": "code",
   "execution_count": 6,
   "id": "4054ba9f",
   "metadata": {},
   "outputs": [
    {
     "name": "stdout",
     "output_type": "stream",
     "text": [
      "Results saved in 'output_128_results.txt'\n"
     ]
    }
   ],
   "source": [
    "import numpy as np\n",
    "\n",
    "\n",
    "\n",
    "with open(\"output_128_results.txt\", \"w\") as f:\n",
    "    for i in range(128):\n",
    "        # Generate first 64-bit integer\n",
    "        value1 = np.random.randint(0, 2**32, size=1, dtype=np.uint64)\n",
    "        value1 = value1 << 32\n",
    "        value1 = value1 | np.random.randint(0, 2**32, size=1, dtype=np.uint64)  \n",
    "        combined_binary1 = format(value1.item(), '064b')\n",
    "\n",
    "        # Generate second 64-bit integer\n",
    "        value2 = np.random.randint(0, 2**32, size=1, dtype=np.uint64)\n",
    "        value2 = value2 << 32\n",
    "        value2 = value2 | np.random.randint(0, 2**32, size=1, dtype=np.uint64)  \n",
    "        combined_binary2 = format(value2.item(), '064b')\n",
    "\n",
    "        # Add the two 64-bit values\n",
    "        result = value1 + value2\n",
    "        result_binary = format(result.item(), '064b')\n",
    "\n",
    "        # Write the results to the file with an iteration header\n",
    "        #f.write(f\"{i+1}: \" + combined_binary1 + \" \" + combined_binary2 + \" \" + result_binary + \"\\n\")\n",
    "        f.write(combined_binary1 + \" \" + combined_binary2 + \" \" + result_binary + \"\\n\")\n",
    "\n",
    "\n",
    "print(\"Results saved in 'output_128_results.txt'\")\n"
   ]
  },
  {
   "cell_type": "markdown",
   "id": "64c062ba",
   "metadata": {},
   "source": [
    "## Memory sim test script\n",
    "\n",
    "- To customize, edit the #TODO: below and the instructions.txt for assembly. \n",
    "- Since the program only needs to handle addition, instructions.txt does not have a \"add\" opcode. Instructions are in the format M1 S1 S2, where M1 = S1+S2. "
   ]
  },
  {
   "cell_type": "code",
   "execution_count": null,
   "id": "f5ce66c2",
   "metadata": {},
   "outputs": [
    {
     "name": "stdout",
     "output_type": "stream",
     "text": [
      "Results saved in 'memory_pre_state_upper.txt' and 'memory_pre_state_lower.txt'\n",
      "Post-state memory written to 'memory_post_state_upper.txt' and 'memory_post_state_lower.txt'\n"
     ]
    }
   ],
   "source": [
    "\n",
    "import numpy as np\n",
    "\n",
    "read_start_addr = 0\n",
    "read_end_addr = 255\n",
    "write_start_addr = 384\n",
    "write_end_addr = 511\n",
    "\n",
    "def gen():\n",
    "    \"\"\"Generates a 64-bit unsigned integer.\"\"\"\n",
    "    value = np.random.randint(0, 2**64, size=1, dtype=np.uint64) \n",
    "    return value\n",
    "\n",
    "# Generate and write pre-state memory\n",
    "with open(\"memory_pre_state_upper.txt\", \"w\") as u, open(\"memory_pre_state_lower.txt\", \"w\") as l:\n",
    "    for i in range(256):\n",
    "        value = gen()\n",
    "        upper = ((value.item() >> 32) & 0xFFFFFFFF)\n",
    "        lower = (value.item() & 0xFFFFFFFF)\n",
    "        u.write(format(upper, '032b') + \"\\n\")\n",
    "        l.write(format(lower, '032b') + \"\\n\")\n",
    "    for i in range(256):\n",
    "        u.write(format(0, '032b') + \"\\n\")\n",
    "        l.write(format(0, '032b') + \"\\n\")\n",
    "\n",
    "print(\"Results saved in 'memory_pre_state_upper.txt' and 'memory_pre_state_lower.txt'\")\n",
    "\n",
    "# Simulate addition\n",
    "with open(\"memory_post_state_upper.txt\", \"w\") as u_out, open(\"memory_post_state_lower.txt\", \"w\") as l_out:\n",
    "    with open(\"memory_pre_state_upper.txt\", \"r\") as u_in, open(\"memory_pre_state_lower.txt\", \"r\") as l_in:\n",
    "        # Read all pre-state lines\n",
    "        upper_lines = u_in.readlines()\n",
    "        lower_lines = l_in.readlines()\n",
    "\n",
    "        read_addr = read_start_addr\n",
    "        write_addr = write_start_addr\n",
    "        for i in range(128):\n",
    "            # Convert binary strings to integers\n",
    "            src1_upper = int(upper_lines[read_addr].strip(), 2)\n",
    "            src1_lower = int(lower_lines[read_addr].strip(), 2)\n",
    "            \n",
    "            read_addr += 1\n",
    "\n",
    "            src2_upper = int(upper_lines[read_addr].strip(), 2)\n",
    "            src2_lower = int(lower_lines[read_addr].strip(), 2)\n",
    "            \n",
    "            read_addr += 1\n",
    "\n",
    "            src1 = (src1_upper + src1_lower) & 0xFFFFFFFF\n",
    "            src2 = (src2_upper + src2_lower) & 0xFFFFFFFF\n",
    "\n",
    "            print(\"src1: \" + bin(src1))\n",
    "            print(\"src2: \" + bin(src2))\n",
    "            result = (src2 << 32) | src1\n",
    "            print(\"result: \" + bin(result))\n",
    "            res_upper = (result >> 32) & 0xFFFFFFFF\n",
    "            res_lower = result & 0xFFFFFFFF\n",
    "\n",
    "            # Save result in memory at the correct index\n",
    "            upper_lines[write_addr] = format(res_upper, '032b') + \"\\n\"\n",
    "            lower_lines[write_addr] = format(res_lower, '032b') + \"\\n\"\n",
    "\n",
    "            write_addr += 1\n",
    "\n",
    "        # Write post-state memory\n",
    "        u_out.writelines(upper_lines)\n",
    "        l_out.writelines(lower_lines)\n",
    "\n",
    "print(\"Post-state memory written to 'memory_post_state_upper.txt' and 'memory_post_state_lower.txt'\")\n"
   ]
  }
 ],
 "metadata": {
  "kernelspec": {
   "display_name": "venv (3.12.11)",
   "language": "python",
   "name": "python3"
  },
  "language_info": {
   "codemirror_mode": {
    "name": "ipython",
    "version": 3
   },
   "file_extension": ".py",
   "mimetype": "text/x-python",
   "name": "python",
   "nbconvert_exporter": "python",
   "pygments_lexer": "ipython3",
   "version": "3.12.11"
  }
 },
 "nbformat": 4,
 "nbformat_minor": 5
}
